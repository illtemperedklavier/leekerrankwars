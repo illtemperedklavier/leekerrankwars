{
 "cells": [
  {
   "cell_type": "markdown",
   "metadata": {},
   "source": [
    "https://www.codewars.com/kata/5279f6fe5ab7f447890006a7/train/python"
   ]
  },
  {
   "cell_type": "code",
   "execution_count": 1,
   "metadata": {},
   "outputs": [],
   "source": [
    "def pick_peaks0(arr):\n",
    "    \n",
    "    tmp_peak = -1000\n",
    "    tmp_pos = None\n",
    "    \n",
    "    peaks = []\n",
    "    pos = []\n",
    "    \n",
    "    for i in range(len(arr)):\n",
    "        if arr[i]>tmp_peak:\n",
    "            print(\"it's going up\", arr[i])\n",
    "            tmp_peak = arr[i]\n",
    "            tmp_pos = i\n",
    "        \n",
    "        elif arr[i]<tmp_peak:\n",
    "            print('going down', arr[i])\n",
    "            peaks.append(tmp_peak)\n",
    "            print(peaks)\n",
    "            pos.append(tmp_pos)\n",
    "            print(pos)\n",
    "        \n",
    "    outpt = {'pos': pos, 'peaks':peaks}\n",
    "    return outpt"
   ]
  },
  {
   "cell_type": "code",
   "execution_count": 2,
   "metadata": {},
   "outputs": [
    {
     "name": "stdout",
     "output_type": "stream",
     "text": [
      "it's going up 3\n",
      "going down 2\n",
      "[3]\n",
      "[0]\n",
      "it's going up 6\n",
      "going down 4\n",
      "[3, 6]\n",
      "[0, 3]\n",
      "going down 1\n",
      "[3, 6, 6]\n",
      "[0, 3, 3]\n",
      "going down 2\n",
      "[3, 6, 6, 6]\n",
      "[0, 3, 3, 3]\n",
      "going down 3\n",
      "[3, 6, 6, 6, 6]\n",
      "[0, 3, 3, 3, 3]\n",
      "going down 2\n",
      "[3, 6, 6, 6, 6, 6]\n",
      "[0, 3, 3, 3, 3, 3]\n",
      "going down 1\n",
      "[3, 6, 6, 6, 6, 6, 6]\n",
      "[0, 3, 3, 3, 3, 3, 3]\n",
      "going down 2\n",
      "[3, 6, 6, 6, 6, 6, 6, 6]\n",
      "[0, 3, 3, 3, 3, 3, 3, 3]\n",
      "going down 3\n",
      "[3, 6, 6, 6, 6, 6, 6, 6, 6]\n",
      "[0, 3, 3, 3, 3, 3, 3, 3, 3]\n"
     ]
    },
    {
     "data": {
      "text/plain": [
       "{'pos': [0, 3, 3, 3, 3, 3, 3, 3, 3], 'peaks': [3, 6, 6, 6, 6, 6, 6, 6, 6]}"
      ]
     },
     "execution_count": 2,
     "metadata": {},
     "output_type": "execute_result"
    }
   ],
   "source": [
    "pick_peaks0([3, 2, 3, 6, 4, 1, 2, 3, 2, 1, 2, 3])"
   ]
  },
  {
   "cell_type": "markdown",
   "metadata": {},
   "source": [
    "This had an obvious rookie mistake once I ran it - I never reset the tmp_peak and tmp_pos, so if the list was nonmonotonically decreasing, it would not only miss those peaks, but add the tmp_peak and temp_pos that many times"
   ]
  },
  {
   "cell_type": "code",
   "execution_count": 3,
   "metadata": {},
   "outputs": [],
   "source": [
    "def pick_peaks1(arr):\n",
    "    \n",
    "    peaks = []\n",
    "    pos = []\n",
    "    \n",
    "    if arr== None:\n",
    "        return {'pos': pos, 'peaks':peaks}\n",
    "    if len(arr)<1:\n",
    "        return {'pos': pos, 'peaks':peaks}\n",
    "    \n",
    "    tmp_peak = arr[0]\n",
    "    tmp_pos = None\n",
    "    \n",
    "    for i in range(1,len(arr)):\n",
    "        if arr[i]>tmp_peak:\n",
    "            print(\"it's going up\", arr[i])\n",
    "            tmp_peak = arr[i]\n",
    "            tmp_pos = i\n",
    "        \n",
    "        elif arr[i]<tmp_peak:\n",
    "            print('going down', arr[i])\n",
    "            if tmp_pos !=None:\n",
    "                peaks.append(tmp_peak)\n",
    "                pos.append(tmp_pos)\n",
    "            print(peaks)\n",
    "\n",
    "            tmp_pos = None\n",
    "            tmp_peak = -1000\n",
    "            print(pos)\n",
    "        \n",
    "    return {'pos': pos, 'peaks':peaks}"
   ]
  },
  {
   "cell_type": "code",
   "execution_count": 4,
   "metadata": {},
   "outputs": [
    {
     "name": "stdout",
     "output_type": "stream",
     "text": [
      "going down 2\n",
      "[]\n",
      "[]\n",
      "it's going up 3\n",
      "it's going up 6\n",
      "going down 4\n",
      "[6]\n",
      "[3]\n",
      "it's going up 1\n",
      "it's going up 2\n",
      "it's going up 3\n",
      "going down 2\n",
      "[6, 3]\n",
      "[3, 7]\n",
      "it's going up 1\n",
      "it's going up 2\n",
      "it's going up 3\n"
     ]
    },
    {
     "data": {
      "text/plain": [
       "{'pos': [3, 7], 'peaks': [6, 3]}"
      ]
     },
     "execution_count": 4,
     "metadata": {},
     "output_type": "execute_result"
    }
   ],
   "source": [
    "pick_peaks1([3, 2, 3, 6, 4, 1, 2, 3, 2, 1, 2, 3])"
   ]
  },
  {
   "cell_type": "markdown",
   "metadata": {},
   "source": [
    "That version was stupid - it took me a while to figure out the problem. The output was this:"
   ]
  },
  {
   "cell_type": "raw",
   "metadata": {},
   "source": [
    "it's going up 2\n",
    "it's going up 5\n",
    "going down 4\n",
    "[5]\n",
    "[2]\n",
    "it's going up 3\n",
    "going down 2\n",
    "[5, 3]\n",
    "[2, 4]\n",
    "it's going up 3\n",
    "it's going up 6\n",
    "going down 4\n",
    "[5, 3, 6]\n",
    "[2, 4, 7]\n",
    "it's going up 1\n",
    "it's going up 2\n",
    "it's going up 3\n",
    "it's going up 4\n",
    "it's going up 5\n",
    "going down 3\n",
    "[5, 3, 6, 5]\n",
    "[2, 4, 7, 14]\n",
    "it's going up 2\n",
    "going down 1\n",
    "[5, 3, 6, 5, 2]\n",
    "[2, 4, 7, 14, 16]\n",
    "it's going up 2\n",
    "it's going up 3\n",
    "it's going up 5\n",
    "going down 4\n",
    "[5, 3, 6, 5, 2, 5]\n",
    "[2, 4, 7, 14, 16, 20]\n",
    "it's going up 3"
   ]
  },
  {
   "cell_type": "markdown",
   "metadata": {},
   "source": [
    "{'pos': [2, 4, 7, 14, 16, 20], 'peaks': [5, 3, 6, 5, 2, 5]} should equal {'pos': [2, 7, 14, 20], 'peaks': [5, 6, 5, 5]}"
   ]
  },
  {
   "cell_type": "markdown",
   "metadata": {},
   "source": [
    "I realized that what's going on is that as soon as it goes down, tmp_peak gets set to -1000, which means that ANY subsequent integer will be a peak. "
   ]
  },
  {
   "cell_type": "code",
   "execution_count": 5,
   "metadata": {},
   "outputs": [],
   "source": [
    "def pick_peaks12(arr):\n",
    "    \n",
    "    peaks = []\n",
    "    pos = []\n",
    "    \n",
    "    if arr== None:\n",
    "        return {'pos': pos, 'peaks':peaks}\n",
    "    if len(arr)<1:\n",
    "        return {'pos': pos, 'peaks':peaks}\n",
    "    \n",
    "    tmp_peak = arr[0]\n",
    "    tmp_pos = None\n",
    "    \n",
    "    for i in range(1,len(arr)):\n",
    "        if arr[i]>tmp_peak:\n",
    "            print(\"it's going up\", arr[i], 'is bigger than the current tmp_peak of', tmp_peak)\n",
    "            tmp_peak = arr[i]\n",
    "            tmp_pos = i\n",
    "        \n",
    "        elif arr[i]<tmp_peak:\n",
    "            print('going down', arr[i])\n",
    "            if tmp_pos !=None:\n",
    "                peaks.append(tmp_peak)\n",
    "                pos.append(tmp_pos)\n",
    "            print(peaks)\n",
    "\n",
    "            tmp_pos = None\n",
    "            tmp_peak = -1000\n",
    "            print(pos)\n",
    "        \n",
    "    return {'pos': pos, 'peaks':peaks}"
   ]
  },
  {
   "cell_type": "code",
   "execution_count": 6,
   "metadata": {},
   "outputs": [
    {
     "name": "stdout",
     "output_type": "stream",
     "text": [
      "going down 2\n",
      "[]\n",
      "[]\n",
      "it's going up 3 is bigger than the current tmp_peak of -1000\n",
      "it's going up 6 is bigger than the current tmp_peak of 3\n",
      "going down 4\n",
      "[6]\n",
      "[3]\n",
      "it's going up 1 is bigger than the current tmp_peak of -1000\n",
      "it's going up 2 is bigger than the current tmp_peak of 1\n",
      "it's going up 3 is bigger than the current tmp_peak of 2\n",
      "going down 2\n",
      "[6, 3]\n",
      "[3, 7]\n",
      "it's going up 1 is bigger than the current tmp_peak of -1000\n",
      "it's going up 2 is bigger than the current tmp_peak of 1\n",
      "it's going up 3 is bigger than the current tmp_peak of 2\n"
     ]
    },
    {
     "data": {
      "text/plain": [
       "{'pos': [3, 7], 'peaks': [6, 3]}"
      ]
     },
     "execution_count": 6,
     "metadata": {},
     "output_type": "execute_result"
    }
   ],
   "source": [
    "pick_peaks12([3, 2, 3, 6, 4, 1, 2, 3, 2, 1, 2, 3])"
   ]
  },
  {
   "cell_type": "markdown",
   "metadata": {},
   "source": [
    "I need to forfeit, I'm wasting too much time on something I'm not smart enough for"
   ]
  },
  {
   "cell_type": "code",
   "execution_count": null,
   "metadata": {},
   "outputs": [],
   "source": []
  }
 ],
 "metadata": {
  "kernelspec": {
   "display_name": "Python 3",
   "language": "python",
   "name": "python3"
  },
  "language_info": {
   "codemirror_mode": {
    "name": "ipython",
    "version": 3
   },
   "file_extension": ".py",
   "mimetype": "text/x-python",
   "name": "python",
   "nbconvert_exporter": "python",
   "pygments_lexer": "ipython3",
   "version": "3.8.5"
  }
 },
 "nbformat": 4,
 "nbformat_minor": 4
}
