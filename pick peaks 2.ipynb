{
 "cells": [
  {
   "cell_type": "code",
   "execution_count": 5,
   "metadata": {},
   "outputs": [],
   "source": [
    "def pick_peaks(arr):\n",
    "    tmp_peak = arr[0]\n",
    "    tmp_pos = None\n",
    "    print(arr)\n",
    "    for i in range(1,len(arr)):\n",
    "        if arr[i]>tmp_peak:\n",
    "            print('going up', i, arr[i])\n",
    "            tmp_peak = arr[i]\n",
    "            tmp_pos = [i]\n",
    "            print('tmp_peak: ', tmp_peak)\n",
    "        if arr[i]==tmp_peak:\n",
    "            print('plateau', i, arr[i])\n",
    "            print('tmp_peak: ', tmp_peak)\n",
    "        \n",
    "        if arr[i]<tmp_peak:\n",
    "            print('going down', i, arr[i])\n",
    "            if tmp_pos!=None:\n",
    "                print('peak found at', tmp_pos, tmp_peak )\n",
    "            \n",
    "            tmp_pos = None\n",
    "            \n",
    "            \n",
    "        \n",
    "            "
   ]
  },
  {
   "cell_type": "code",
   "execution_count": 6,
   "metadata": {},
   "outputs": [
    {
     "name": "stdout",
     "output_type": "stream",
     "text": [
      "[3, 2, 3, 6, 4, 1, 2, 3, 2, 1, 2, 3]\n",
      "going down 1 2\n",
      "plateau 2 3\n",
      "tmp_peak:  3\n",
      "going up 3 6\n",
      "tmp_peak:  6\n",
      "plateau 3 6\n",
      "tmp_peak:  6\n",
      "going down 4 4\n",
      "peak found at [3] 6\n",
      "going up 5 1\n",
      "tmp_peak:  1\n",
      "plateau 5 1\n",
      "tmp_peak:  1\n",
      "going up 6 2\n",
      "tmp_peak:  2\n",
      "plateau 6 2\n",
      "tmp_peak:  2\n",
      "going up 7 3\n",
      "tmp_peak:  3\n",
      "plateau 7 3\n",
      "tmp_peak:  3\n",
      "going down 8 2\n",
      "peak found at [7] 3\n",
      "going up 9 1\n",
      "tmp_peak:  1\n",
      "plateau 9 1\n",
      "tmp_peak:  1\n",
      "going up 10 2\n",
      "tmp_peak:  2\n",
      "plateau 10 2\n",
      "tmp_peak:  2\n",
      "going up 11 3\n",
      "tmp_peak:  3\n",
      "plateau 11 3\n",
      "tmp_peak:  3\n"
     ]
    }
   ],
   "source": [
    "pick_peaks([3, 2, 3, 6, 4, 1, 2, 3, 2, 1, 2, 3])"
   ]
  },
  {
   "cell_type": "code",
   "execution_count": 7,
   "metadata": {},
   "outputs": [],
   "source": [
    "def pick_peaks2(arr):\n",
    "    prev, cur = 0, 0\n",
    "    pos = []\n",
    "    peaks = []\n",
    "    for next in range(1, len(arr)):\n",
    "        if arr[next] > arr[cur]:\n",
    "            prev = cur\n",
    "            cur = next\n",
    "        else:\n",
    "            if arr[next] < arr[cur]:\n",
    "                if arr[prev] < arr[cur]:\n",
    "                    pos.append(cur)\n",
    "                    peaks.append(arr[cur])\n",
    "                prev = cur\n",
    "                cur = next\n",
    "    return {\"pos\": pos, \"peaks\": peaks}"
   ]
  },
  {
   "cell_type": "code",
   "execution_count": 8,
   "metadata": {},
   "outputs": [
    {
     "data": {
      "text/plain": [
       "{'pos': [3, 7], 'peaks': [6, 3]}"
      ]
     },
     "execution_count": 8,
     "metadata": {},
     "output_type": "execute_result"
    }
   ],
   "source": [
    "pick_peaks2([3, 2, 3, 6, 4, 1, 2, 3, 2, 1, 2, 3])"
   ]
  },
  {
   "cell_type": "code",
   "execution_count": null,
   "metadata": {},
   "outputs": [],
   "source": []
  }
 ],
 "metadata": {
  "kernelspec": {
   "display_name": "Python 3",
   "language": "python",
   "name": "python3"
  },
  "language_info": {
   "codemirror_mode": {
    "name": "ipython",
    "version": 3
   },
   "file_extension": ".py",
   "mimetype": "text/x-python",
   "name": "python",
   "nbconvert_exporter": "python",
   "pygments_lexer": "ipython3",
   "version": "3.8.5"
  }
 },
 "nbformat": 4,
 "nbformat_minor": 4
}
